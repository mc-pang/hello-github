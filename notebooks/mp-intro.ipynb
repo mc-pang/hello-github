{
 "cells": [
  {
   "cell_type": "code",
   "execution_count": 1,
   "id": "f7f1de89-6097-4f8c-875f-acd2774c0088",
   "metadata": {},
   "outputs": [],
   "source": [
    "import pandas as pd"
   ]
  },
  {
   "cell_type": "markdown",
   "id": "adbbc090-5ee4-4b41-826e-22d4b8cdbb0c",
   "metadata": {},
   "source": [
    "# Load data\n",
    "\n",
    "Loading data directly from url"
   ]
  },
  {
   "cell_type": "code",
   "execution_count": 5,
   "id": "99125935-7575-4c83-8570-faff419b9bb2",
   "metadata": {},
   "outputs": [],
   "source": [
    "df_web = pd.read_csv('https://health-infobase.canada.ca/src/data/covidLive/covid19-epiSummary-variants.csv')"
   ]
  },
  {
   "cell_type": "code",
   "execution_count": 6,
   "id": "63ff833c-4234-4d91-9a25-5a6fa9788ee2",
   "metadata": {},
   "outputs": [
    {
     "data": {
      "text/html": [
       "<div>\n",
       "<style scoped>\n",
       "    .dataframe tbody tr th:only-of-type {\n",
       "        vertical-align: middle;\n",
       "    }\n",
       "\n",
       "    .dataframe tbody tr th {\n",
       "        vertical-align: top;\n",
       "    }\n",
       "\n",
       "    .dataframe thead th {\n",
       "        text-align: right;\n",
       "    }\n",
       "</style>\n",
       "<table border=\"1\" class=\"dataframe\">\n",
       "  <thead>\n",
       "    <tr style=\"text-align: right;\">\n",
       "      <th></th>\n",
       "      <th>Variant Grouping</th>\n",
       "      <th>_Identifier</th>\n",
       "      <th>Lineage</th>\n",
       "      <th>%CT Count of Sample #</th>\n",
       "      <th>Collection Date</th>\n",
       "    </tr>\n",
       "  </thead>\n",
       "  <tbody>\n",
       "    <tr>\n",
       "      <th>0</th>\n",
       "      <td>VOC</td>\n",
       "      <td>Alpha</td>\n",
       "      <td>B.1.1.7</td>\n",
       "      <td>0.554</td>\n",
       "      <td>2021-05-09</td>\n",
       "    </tr>\n",
       "    <tr>\n",
       "      <th>1</th>\n",
       "      <td>VOC</td>\n",
       "      <td>Alpha</td>\n",
       "      <td>B.1.1.7</td>\n",
       "      <td>0.530</td>\n",
       "      <td>2021-05-16</td>\n",
       "    </tr>\n",
       "    <tr>\n",
       "      <th>2</th>\n",
       "      <td>VOC</td>\n",
       "      <td>Alpha</td>\n",
       "      <td>B.1.1.7</td>\n",
       "      <td>0.535</td>\n",
       "      <td>2021-05-23</td>\n",
       "    </tr>\n",
       "    <tr>\n",
       "      <th>3</th>\n",
       "      <td>VOC</td>\n",
       "      <td>Alpha</td>\n",
       "      <td>B.1.1.7</td>\n",
       "      <td>0.557</td>\n",
       "      <td>2021-05-30</td>\n",
       "    </tr>\n",
       "    <tr>\n",
       "      <th>4</th>\n",
       "      <td>VOC</td>\n",
       "      <td>Alpha</td>\n",
       "      <td>B.1.1.7</td>\n",
       "      <td>0.515</td>\n",
       "      <td>2021-06-06</td>\n",
       "    </tr>\n",
       "    <tr>\n",
       "      <th>...</th>\n",
       "      <td>...</td>\n",
       "      <td>...</td>\n",
       "      <td>...</td>\n",
       "      <td>...</td>\n",
       "      <td>...</td>\n",
       "    </tr>\n",
       "    <tr>\n",
       "      <th>327</th>\n",
       "      <td>Other</td>\n",
       "      <td>Other</td>\n",
       "      <td>P.1.3</td>\n",
       "      <td>0.000</td>\n",
       "      <td>2021-05-09</td>\n",
       "    </tr>\n",
       "    <tr>\n",
       "      <th>328</th>\n",
       "      <td>Other</td>\n",
       "      <td>Other</td>\n",
       "      <td>P.1.3</td>\n",
       "      <td>0.001</td>\n",
       "      <td>2021-05-16</td>\n",
       "    </tr>\n",
       "    <tr>\n",
       "      <th>329</th>\n",
       "      <td>Other</td>\n",
       "      <td>Other</td>\n",
       "      <td>P.1.3</td>\n",
       "      <td>0.001</td>\n",
       "      <td>2021-07-11</td>\n",
       "    </tr>\n",
       "    <tr>\n",
       "      <th>330</th>\n",
       "      <td>Other</td>\n",
       "      <td>Other</td>\n",
       "      <td>P.1.4</td>\n",
       "      <td>0.001</td>\n",
       "      <td>2021-05-09</td>\n",
       "    </tr>\n",
       "    <tr>\n",
       "      <th>331</th>\n",
       "      <td>Other</td>\n",
       "      <td>Other</td>\n",
       "      <td>P.1.4</td>\n",
       "      <td>0.000</td>\n",
       "      <td>2021-05-16</td>\n",
       "    </tr>\n",
       "  </tbody>\n",
       "</table>\n",
       "<p>332 rows × 5 columns</p>\n",
       "</div>"
      ],
      "text/plain": [
       "    Variant Grouping _Identifier  Lineage  %CT Count of Sample #  \\\n",
       "0                VOC       Alpha  B.1.1.7                  0.554   \n",
       "1                VOC       Alpha  B.1.1.7                  0.530   \n",
       "2                VOC       Alpha  B.1.1.7                  0.535   \n",
       "3                VOC       Alpha  B.1.1.7                  0.557   \n",
       "4                VOC       Alpha  B.1.1.7                  0.515   \n",
       "..               ...         ...      ...                    ...   \n",
       "327            Other       Other    P.1.3                  0.000   \n",
       "328            Other       Other    P.1.3                  0.001   \n",
       "329            Other       Other    P.1.3                  0.001   \n",
       "330            Other       Other    P.1.4                  0.001   \n",
       "331            Other       Other    P.1.4                  0.000   \n",
       "\n",
       "    Collection Date  \n",
       "0        2021-05-09  \n",
       "1        2021-05-16  \n",
       "2        2021-05-23  \n",
       "3        2021-05-30  \n",
       "4        2021-06-06  \n",
       "..              ...  \n",
       "327      2021-05-09  \n",
       "328      2021-05-16  \n",
       "329      2021-07-11  \n",
       "330      2021-05-09  \n",
       "331      2021-05-16  \n",
       "\n",
       "[332 rows x 5 columns]"
      ]
     },
     "execution_count": 6,
     "metadata": {},
     "output_type": "execute_result"
    }
   ],
   "source": [
    "df_web"
   ]
  },
  {
   "cell_type": "markdown",
   "id": "6c8f1f16-6094-43d4-9a47-de47ec25b933",
   "metadata": {},
   "source": [
    "Loading from local..."
   ]
  },
  {
   "cell_type": "code",
   "execution_count": 8,
   "id": "e0d0585c-88b5-45d4-b216-b626fb0e6347",
   "metadata": {},
   "outputs": [
    {
     "data": {
      "text/html": [
       "<div>\n",
       "<style scoped>\n",
       "    .dataframe tbody tr th:only-of-type {\n",
       "        vertical-align: middle;\n",
       "    }\n",
       "\n",
       "    .dataframe tbody tr th {\n",
       "        vertical-align: top;\n",
       "    }\n",
       "\n",
       "    .dataframe thead th {\n",
       "        text-align: right;\n",
       "    }\n",
       "</style>\n",
       "<table border=\"1\" class=\"dataframe\">\n",
       "  <thead>\n",
       "    <tr style=\"text-align: right;\">\n",
       "      <th></th>\n",
       "      <th>Variant Grouping</th>\n",
       "      <th>_Identifier</th>\n",
       "      <th>Lineage</th>\n",
       "      <th>%CT Count of Sample #</th>\n",
       "      <th>Collection Date</th>\n",
       "    </tr>\n",
       "  </thead>\n",
       "  <tbody>\n",
       "    <tr>\n",
       "      <th>0</th>\n",
       "      <td>VOC</td>\n",
       "      <td>Alpha</td>\n",
       "      <td>B.1.1.7</td>\n",
       "      <td>0.554</td>\n",
       "      <td>2021-05-09</td>\n",
       "    </tr>\n",
       "    <tr>\n",
       "      <th>1</th>\n",
       "      <td>VOC</td>\n",
       "      <td>Alpha</td>\n",
       "      <td>B.1.1.7</td>\n",
       "      <td>0.530</td>\n",
       "      <td>2021-05-16</td>\n",
       "    </tr>\n",
       "    <tr>\n",
       "      <th>2</th>\n",
       "      <td>VOC</td>\n",
       "      <td>Alpha</td>\n",
       "      <td>B.1.1.7</td>\n",
       "      <td>0.535</td>\n",
       "      <td>2021-05-23</td>\n",
       "    </tr>\n",
       "    <tr>\n",
       "      <th>3</th>\n",
       "      <td>VOC</td>\n",
       "      <td>Alpha</td>\n",
       "      <td>B.1.1.7</td>\n",
       "      <td>0.557</td>\n",
       "      <td>2021-05-30</td>\n",
       "    </tr>\n",
       "    <tr>\n",
       "      <th>4</th>\n",
       "      <td>VOC</td>\n",
       "      <td>Alpha</td>\n",
       "      <td>B.1.1.7</td>\n",
       "      <td>0.515</td>\n",
       "      <td>2021-06-06</td>\n",
       "    </tr>\n",
       "    <tr>\n",
       "      <th>...</th>\n",
       "      <td>...</td>\n",
       "      <td>...</td>\n",
       "      <td>...</td>\n",
       "      <td>...</td>\n",
       "      <td>...</td>\n",
       "    </tr>\n",
       "    <tr>\n",
       "      <th>327</th>\n",
       "      <td>Other</td>\n",
       "      <td>Other</td>\n",
       "      <td>P.1.3</td>\n",
       "      <td>0.000</td>\n",
       "      <td>2021-05-09</td>\n",
       "    </tr>\n",
       "    <tr>\n",
       "      <th>328</th>\n",
       "      <td>Other</td>\n",
       "      <td>Other</td>\n",
       "      <td>P.1.3</td>\n",
       "      <td>0.001</td>\n",
       "      <td>2021-05-16</td>\n",
       "    </tr>\n",
       "    <tr>\n",
       "      <th>329</th>\n",
       "      <td>Other</td>\n",
       "      <td>Other</td>\n",
       "      <td>P.1.3</td>\n",
       "      <td>0.001</td>\n",
       "      <td>2021-07-11</td>\n",
       "    </tr>\n",
       "    <tr>\n",
       "      <th>330</th>\n",
       "      <td>Other</td>\n",
       "      <td>Other</td>\n",
       "      <td>P.1.4</td>\n",
       "      <td>0.001</td>\n",
       "      <td>2021-05-09</td>\n",
       "    </tr>\n",
       "    <tr>\n",
       "      <th>331</th>\n",
       "      <td>Other</td>\n",
       "      <td>Other</td>\n",
       "      <td>P.1.4</td>\n",
       "      <td>0.000</td>\n",
       "      <td>2021-05-16</td>\n",
       "    </tr>\n",
       "  </tbody>\n",
       "</table>\n",
       "<p>332 rows × 5 columns</p>\n",
       "</div>"
      ],
      "text/plain": [
       "    Variant Grouping _Identifier  Lineage  %CT Count of Sample #  \\\n",
       "0                VOC       Alpha  B.1.1.7                  0.554   \n",
       "1                VOC       Alpha  B.1.1.7                  0.530   \n",
       "2                VOC       Alpha  B.1.1.7                  0.535   \n",
       "3                VOC       Alpha  B.1.1.7                  0.557   \n",
       "4                VOC       Alpha  B.1.1.7                  0.515   \n",
       "..               ...         ...      ...                    ...   \n",
       "327            Other       Other    P.1.3                  0.000   \n",
       "328            Other       Other    P.1.3                  0.001   \n",
       "329            Other       Other    P.1.3                  0.001   \n",
       "330            Other       Other    P.1.4                  0.001   \n",
       "331            Other       Other    P.1.4                  0.000   \n",
       "\n",
       "    Collection Date  \n",
       "0        2021-05-09  \n",
       "1        2021-05-16  \n",
       "2        2021-05-23  \n",
       "3        2021-05-30  \n",
       "4        2021-06-06  \n",
       "..              ...  \n",
       "327      2021-05-09  \n",
       "328      2021-05-16  \n",
       "329      2021-07-11  \n",
       "330      2021-05-09  \n",
       "331      2021-05-16  \n",
       "\n",
       "[332 rows x 5 columns]"
      ]
     },
     "execution_count": 8,
     "metadata": {},
     "output_type": "execute_result"
    }
   ],
   "source": [
    "# loading from local\n",
    "df_local = pd.read_csv('../data/covid19-epiSummary-variants.csv')\n",
    "df_local"
   ]
  },
  {
   "cell_type": "markdown",
   "id": "10fed60c-c627-445c-8d21-25167949de60",
   "metadata": {},
   "source": [
    "## Load module from `../src/`"
   ]
  },
  {
   "cell_type": "code",
   "execution_count": 12,
   "id": "735977c8-168c-4b10-ba1f-63a682063dd5",
   "metadata": {},
   "outputs": [],
   "source": [
    "import sys\n",
    "sys.path.append('../src/')\n",
    "import mymodule"
   ]
  },
  {
   "cell_type": "code",
   "execution_count": 13,
   "id": "84fa7e96-efcd-4f53-8e32-ce3cecf28de9",
   "metadata": {},
   "outputs": [
    {
     "data": {
      "text/plain": [
       "3"
      ]
     },
     "execution_count": 13,
     "metadata": {},
     "output_type": "execute_result"
    }
   ],
   "source": [
    "mymodule.add(1,2)"
   ]
  },
  {
   "cell_type": "code",
   "execution_count": 14,
   "id": "16ae03f4-1fa7-440b-a2cb-57873609edcf",
   "metadata": {},
   "outputs": [],
   "source": [
    "from mymodule import add"
   ]
  },
  {
   "cell_type": "code",
   "execution_count": 15,
   "id": "7fa72152-7b9a-4a01-91db-edeebeb1d690",
   "metadata": {},
   "outputs": [
    {
     "data": {
      "text/plain": [
       "3"
      ]
     },
     "execution_count": 15,
     "metadata": {},
     "output_type": "execute_result"
    }
   ],
   "source": [
    "add(1,2)"
   ]
  },
  {
   "cell_type": "code",
   "execution_count": null,
   "id": "86c1a56b-074b-4771-9925-de7084d63e4b",
   "metadata": {},
   "outputs": [],
   "source": []
  }
 ],
 "metadata": {
  "kernelspec": {
   "display_name": "Python 3",
   "language": "python",
   "name": "python3"
  },
  "language_info": {
   "codemirror_mode": {
    "name": "ipython",
    "version": 3
   },
   "file_extension": ".py",
   "mimetype": "text/x-python",
   "name": "python",
   "nbconvert_exporter": "python",
   "pygments_lexer": "ipython3",
   "version": "3.8.8"
  }
 },
 "nbformat": 4,
 "nbformat_minor": 5
}
